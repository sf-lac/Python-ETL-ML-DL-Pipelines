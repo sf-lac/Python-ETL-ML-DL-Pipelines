{
 "cells": [
  {
   "cell_type": "code",
   "execution_count": 1,
   "id": "cc8da88d",
   "metadata": {},
   "outputs": [],
   "source": [
    "# ! pip install xmltodict\n",
    "# ! pip install mysql-connector-python"
   ]
  },
  {
   "cell_type": "markdown",
   "id": "756f1c76",
   "metadata": {},
   "source": [
    "#### Import libraries"
   ]
  },
  {
   "cell_type": "code",
   "execution_count": 2,
   "id": "a0365e2b",
   "metadata": {},
   "outputs": [],
   "source": [
    "import xmltodict\n",
    "import pandas as pd\n",
    "import json\n",
    "\n",
    "import mysql.connector\n",
    "from mysql.connector import Error\n",
    "\n",
    "import pprint"
   ]
  },
  {
   "cell_type": "markdown",
   "id": "1fb17675",
   "metadata": {},
   "source": [
    "#### Read XML clinical trial data"
   ]
  },
  {
   "cell_type": "code",
   "execution_count": 3,
   "id": "774e4dd9",
   "metadata": {},
   "outputs": [
    {
     "name": "stdout",
     "output_type": "stream",
     "text": [
      "{'clinical_study': {'@rank': '1', 'required_header': {'download_date': 'ClinicalTrials.gov processed this data on November 18, 2022', 'link_text': 'Link to the current ClinicalTrials.gov record.', 'url': 'https://clinicaltrials.gov/show/NCT02953860'}, 'id_info': {'org_study_id': '16-1001.cc', 'nct_id': 'NCT02953860'}, 'brief_title': 'Fulvestrant Plus Enzalutamide in ER+/Her2- Advanced Breast Cancer', 'official_title': 'Phase II Trial of Fulvestrant Plus Enzalutamide in ER+/Her2- Advanced Breast Cancer', 'sponsors': {'lead_sponsor': {'agency': 'University of Colorado, Denver', 'agency_class': 'Other'}, 'collaborator': {'agency': 'United States Department of Defense', 'agency_class': 'U.S. Fed'}}, 'source': 'University of Colorado, Denver', 'oversight_info': {'has_dmc': 'Yes', 'is_fda_regulated_drug': 'Yes', 'is_fda_regulated_device': 'No'}, 'brief_summary': {'textblock': 'A phase 2 study to evaluate the tolerability and clinical activity of adding enzalutamide to\\r\\n      fulvestrant treatment in women with advanced breast cancer that are ER and/or PR positive and\\r\\n      Her2 normal.'}, 'detailed_description': {'textblock': 'This is a single arm, non-randomized, open-label phase 2 study designed to evaluate the\\r\\n      tolerability and clinical activity of adding enzalutamide to fulvestrant treatment in women\\r\\n      with advanced breast cancer that are ER and/or PR-positive and Her2 normal. In this study 500\\r\\n      mg of Fulvestrant will be given IM on days 1, 15, 28, then every 4 weeks as per standard of\\r\\n      care (SOC) and 160mg of Enzalutamide will be, in conjunction with Fulvestrant, PO daily.'}, 'overall_status': 'Completed', 'start_date': {'@type': 'Actual', '#text': 'July 6, 2017'}, 'completion_date': {'@type': 'Actual', '#text': 'April 10, 2020'}, 'primary_completion_date': {'@type': 'Actual', '#text': 'November 21, 2019'}, 'phase': 'Phase 2', 'study_type': 'Interventional', 'has_expanded_access': 'No', 'study_design_info': {'allocation': 'N/A', 'intervention_model': 'Single Group Assignment', 'primary_purpose': 'Treatment', 'masking': 'None (Open Label)'}, 'primary_outcome': {'measure': 'Clinical Benefit Rate of the Combination of Enzalutamide/ Fulvestrant', 'time_frame': '24 Weeks', 'description': 'To determine the clinical benefit rate at 24 weeks of the combination of enzalutamide/fulvestrant. Per Response Evaluation Criteria In Solid Tumors Criteria (RECIST v1.0) for target lesions and assessed by CT scan or by caliper. Complete Response (CR), Disappearance of all target lesions; Partial Response (PR), >=30% decrease in the sum of the longest diameter of target lesions; Overall Response (OR) = CR + PR; clinical benefit rate (CBR) at 24 weeks (CR + PR + stable disease lasting at least 24 weeks.'}, 'secondary_outcome': [{'measure': 'Number of Participants With Treatment-Emergent Adverse Events (Safety Profile)', 'time_frame': '24 Weeks', 'description': 'The safety of the combination of enzalutamide with fulvestrant will be assessed according to CTCAE 4.03.'}, {'measure': 'Percent Progression Free at 24 Weeks', 'time_frame': 'Up to 24 Weeks', 'description': 'PFS is defined as the time from the first day of enzalutamide treatment (Study Day 1) until documented disease progression or death on study, whichever occurs first. Percent (%) progression free at 24 weeks is the number of patients without disease progression after 24 weeks follow-up.'}], 'number_of_arms': '1', 'enrollment': {'@type': 'Actual', '#text': '32'}, 'condition': 'Breast Cancer', 'arm_group': {'arm_group_label': 'Fulvestrant with Enzalutamide', 'arm_group_type': 'Experimental', 'description': '500mg of Fulvestrant will be given IM on days 1, 15, 28, then every 4 weeks as per standard of care (SOC) and 160mg of Enzalutamide will be given, in conjunction with Fulvestrant, PO daily.'}, 'intervention': {'intervention_type': 'Drug', 'intervention_name': 'Fulvestrant with Enzalutamide', 'description': '500mg of Fulvestrant will be given IM on days 1, 15, 28, then every 4 weeks as per standard of care (SOC) and 160mg of Enzalutamide will be given PO daily. Patients will receive a tumor biopsy at the start of treatment and 4 weeks after the start of treatment, with an optional 3rd biopsy at the end treatment.', 'arm_group_label': 'Fulvestrant with Enzalutamide', 'other_name': ['FASLODEX', 'MDV3100']}, 'eligibility': {'criteria': {'textblock': \"Inclusion Criteria:\\r\\n\\r\\n          1. ER+ Her2- breast cancer\\r\\n\\r\\n          2. Metastatic\\r\\n\\r\\n          3. Female, at least 18 years of age\\r\\n\\r\\n          4. Candidate for fulvestrant therapy - patients who have started fulvestrant may enter\\r\\n             this trial if within 3 months of starting fulvestrant\\r\\n\\r\\n          5. Measurable or evaluable by RECIST 1.1\\r\\n\\r\\n          6. ECOG PS 0-2\\r\\n\\r\\n          7. Able to swallow study drug and comply with study requirements\\r\\n\\r\\n          8. Tumor available for fresh biopsy (two biopsies - pretreatment as regards enzalutamide,\\r\\n             and during treatment at 4 weeks). The patient will be also be asked if they would be\\r\\n             willing to provide a third biopsy at time of progression.\\r\\n\\r\\n          9. If patient is pre- or peri- menopausal, then will need to have concurrent ovarian\\r\\n             suppression. Patients may have already gotten the loading dose of ovarian suppression.\\r\\n             Pre- or peri- menopausal subjects must have a negative urine pregnancy test confirmed\\r\\n             at screening.\\r\\n\\r\\n         10. ANC >1000/uL and platelets >75,000/uL at screening visit\\r\\n\\r\\n         11. Total bilirubin < 1.5 times upper limit of normal (ULN) at the screening visit unless\\r\\n             an alternate nonmalignant etiology exists (eg, Gilbert's disease)\\r\\n\\r\\n         12. Aspartate aminotransferase (AST) or alanine aminotransferase (ALT) < 3 times ULN or <\\r\\n             5 times ULN if patient has documented liver metastases\\r\\n\\r\\n         13. Creatinine < 1.5 times ULN\\r\\n\\r\\n         14. INR < 1.5 times ULN, or if on warfarin, can safely transition off for biopsy\\r\\n\\r\\n         15. Willing to donate blood for research at 4 time points\\r\\n\\r\\n         16. Written informed consent obtained prior to biopsies and blood samples\\r\\n\\r\\n         17. Agreement to exercise appropriate use of contraception. Subjects should use 2\\r\\n             acceptable methods of birth control (one of which must include a condom as a barrier\\r\\n             method of contraception) starting at the time of screening for an enzalutamide study\\r\\n             and continuing throughout the course of treatment and for at least three months after\\r\\n             enzalutamide is discontinued.\\r\\n\\r\\n        Exclusion Criteria:\\r\\n\\r\\n          1. Current or previously treated brain or leptomeningeal metastases\\r\\n\\r\\n          2. History of seizures\\r\\n\\r\\n          3. Prior treatment with an anti-androgen (abiraterone, ARN-509, bicalutamide,\\r\\n             enzalutamide, ODM-201, TAK-448, TAK-683, TAK-700, VT-464)\\r\\n\\r\\n          4. Systemic estrogens or androgens within 14 days before initiating therapy. Vaginal\\r\\n             estrogens are allowed if necessary for patient comfort.\"}, 'gender': 'Female', 'minimum_age': '18 Years', 'maximum_age': '100 Years', 'healthy_volunteers': 'No'}, 'overall_official': {'last_name': 'Anthony D Elias, MD', 'role': 'Principal Investigator', 'affiliation': 'University of Colorado, Denver'}, 'location': [{'facility': {'name': 'University of Colorado', 'address': {'city': 'Aurora', 'state': 'Colorado', 'zip': '80045', 'country': 'United States'}}}, {'facility': {'name': 'Lone Tree Medical Center', 'address': {'city': 'Lone Tree', 'state': 'Colorado', 'zip': '80124', 'country': 'United States'}}}, {'facility': {'name': 'West Cancer Center', 'address': {'city': 'Germantown', 'state': 'Tennessee', 'zip': '38138', 'country': 'United States'}}}], 'location_countries': {'country': 'United States'}, 'verification_date': 'April 2021', 'study_first_submitted': 'November 1, 2016', 'study_first_submitted_qc': 'November 1, 2016', 'study_first_posted': {'@type': 'Estimate', '#text': 'November 3, 2016'}, 'results_first_submitted': 'March 12, 2021', 'results_first_submitted_qc': 'April 23, 2021', 'results_first_posted': {'@type': 'Actual', '#text': 'May 14, 2021'}, 'last_update_submitted': 'April 23, 2021', 'last_update_submitted_qc': 'April 23, 2021', 'last_update_posted': {'@type': 'Actual', '#text': 'May 14, 2021'}, 'responsible_party': {'responsible_party_type': 'Sponsor'}, 'keyword': ['Advanced Breast Cancer', 'ER+/Her2 Advanced Breast Cancer'], 'condition_browse': {'mesh_term': 'Breast Neoplasms'}, 'intervention_browse': {'mesh_term': 'Fulvestrant'}, 'patient_data': {'sharing_ipd': 'No'}, 'provided_document_section': {'provided_document': [{'document_type': 'Study Protocol and Statistical Analysis Plan', 'document_has_protocol': 'Yes', 'document_has_icf': 'No', 'document_has_sap': 'Yes', 'document_date': 'August 27, 2019', 'document_url': 'https://ClinicalTrials.gov/ProvidedDocs/60/NCT02953860/Prot_SAP_000.pdf'}, {'document_type': 'Informed Consent Form', 'document_has_protocol': 'No', 'document_has_icf': 'Yes', 'document_has_sap': 'No', 'document_date': 'August 27, 2019', 'document_url': 'https://ClinicalTrials.gov/ProvidedDocs/60/NCT02953860/ICF_001.pdf'}]}, 'clinical_results': {'participant_flow': {'group_list': {'group': {'@group_id': 'P1', 'title': 'Fulvestrant With Enzalutamide', 'description': '500mg of Fulvestrant will be given IM on days 1, 15, 28, then every 4 weeks as per standard of care (SOC) and 160mg of Enzalutamide will be given, in conjunction with Fulvestrant, PO daily.\\r\\nFulvestrant with Enzalutamide: 500mg of Fulvestrant will be given IM on days 1, 15, 28, then every 4 weeks as per standard of care (SOC) and 160mg of Enzalutamide will be given PO daily. Patients will receive a tumor biopsy at the start of treatment and 4 weeks after the start of treatment, with an optional 3rd biopsy at the end treatment.'}}, 'period_list': {'period': {'title': 'Overall Study', 'milestone_list': {'milestone': [{'title': 'STARTED', 'participants_list': {'participants': {'@group_id': 'P1', '@count': '32'}}}, {'title': 'COMPLETED', 'participants_list': {'participants': {'@group_id': 'P1', '@count': '32'}}}, {'title': 'NOT COMPLETED', 'participants_list': {'participants': {'@group_id': 'P1', '@count': '0'}}}]}}}}, 'baseline': {'population': 'age 18 and up', 'group_list': {'group': {'@group_id': 'B1', 'title': 'Fulvestrant With Enzalutamide', 'description': '500mg of Fulvestrant will be given IM on days 1, 15, 28, then every 4 weeks as per standard of care (SOC) and 160mg of Enzalutamide will be given, in conjunction with Fulvestrant, PO daily.\\r\\nFulvestrant with Enzalutamide: 500mg of Fulvestrant will be given IM on days 1, 15, 28, then every 4 weeks as per standard of care (SOC) and 160mg of Enzalutamide will be given PO daily. Patients will receive a tumor biopsy at the start of treatment and 4 weeks after the start of treatment, with an optional 3rd biopsy at the end treatment.'}}, 'analyzed_list': {'analyzed': {'units': 'Participants', 'scope': 'Overall', 'count_list': {'count': {'@group_id': 'B1', '@value': '32'}}}}, 'measure_list': {'measure': [{'title': 'Age', 'units': 'years', 'param': 'Median', 'dispersion': 'Full Range', 'class_list': {'class': {'category_list': {'category': {'measurement_list': {'measurement': {'@group_id': 'B1', '@value': '61', '@lower_limit': '46', '@upper_limit': '87'}}}}}}}, {'title': 'Sex: Female, Male', 'units': 'Participants', 'param': 'Count of Participants', 'class_list': {'class': {'category_list': {'category': [{'title': 'Female', 'measurement_list': {'measurement': {'@group_id': 'B1', '@value': '32'}}}, {'title': 'Male', 'measurement_list': {'measurement': {'@group_id': 'B1', '@value': '0'}}}]}}}}, {'title': 'Race (NIH/OMB)', 'units': 'Participants', 'param': 'Count of Participants', 'class_list': {'class': {'category_list': {'category': [{'title': 'American Indian or Alaska Native', 'measurement_list': {'measurement': {'@group_id': 'B1', '@value': '0'}}}, {'title': 'Asian', 'measurement_list': {'measurement': {'@group_id': 'B1', '@value': '1'}}}, {'title': 'Native Hawaiian or Other Pacific Islander', 'measurement_list': {'measurement': {'@group_id': 'B1', '@value': '0'}}}, {'title': 'Black or African American', 'measurement_list': {'measurement': {'@group_id': 'B1', '@value': '3'}}}, {'title': 'White', 'measurement_list': {'measurement': {'@group_id': 'B1', '@value': '27'}}}, {'title': 'More than one race', 'measurement_list': {'measurement': {'@group_id': 'B1', '@value': '1'}}}, {'title': 'Unknown or Not Reported', 'measurement_list': {'measurement': {'@group_id': 'B1', '@value': '0'}}}]}}}}, {'title': 'Region of Enrollment', 'units': 'Participants', 'param': 'Count of Participants', 'class_list': {'class': {'title': 'United States', 'category_list': {'category': {'measurement_list': {'measurement': {'@group_id': 'B1', '@value': '32'}}}}}}}]}}, 'outcome_list': {'outcome': [{'type': 'Primary', 'title': 'Clinical Benefit Rate of the Combination of Enzalutamide/ Fulvestrant', 'description': 'To determine the clinical benefit rate at 24 weeks of the combination of enzalutamide/fulvestrant. Per Response Evaluation Criteria In Solid Tumors Criteria (RECIST v1.0) for target lesions and assessed by CT scan or by caliper. Complete Response (CR), Disappearance of all target lesions; Partial Response (PR), >=30% decrease in the sum of the longest diameter of target lesions; Overall Response (OR) = CR + PR; clinical benefit rate (CBR) at 24 weeks (CR + PR + stable disease lasting at least 24 weeks.', 'time_frame': '24 Weeks', 'population': 'All eligible patients', 'group_list': {'group': {'@group_id': 'O1', 'title': 'Fulvestrant With Enzalutamide', 'description': '500mg of Fulvestrant will be given IM on days 1, 15, 28, then every 4 weeks as per standard of care (SOC) and 160mg of Enzalutamide will be given, in conjunction with Fulvestrant, PO daily.\\r\\nFulvestrant with Enzalutamide: 500mg of Fulvestrant will be given IM on days 1, 15, 28, then every 4 weeks as per standard of care (SOC) and 160mg of Enzalutamide will be given PO daily. Patients will receive a tumor biopsy at the start of treatment and 4 weeks after the start of treatment, with an optional 3rd biopsy at the end treatment.'}}, 'measure': {'title': 'Clinical Benefit Rate of the Combination of Enzalutamide/ Fulvestrant', 'description': 'To determine the clinical benefit rate at 24 weeks of the combination of enzalutamide/fulvestrant. Per Response Evaluation Criteria In Solid Tumors Criteria (RECIST v1.0) for target lesions and assessed by CT scan or by caliper. Complete Response (CR), Disappearance of all target lesions; Partial Response (PR), >=30% decrease in the sum of the longest diameter of target lesions; Overall Response (OR) = CR + PR; clinical benefit rate (CBR) at 24 weeks (CR + PR + stable disease lasting at least 24 weeks.', 'population': 'All eligible patients', 'units': 'Participants', 'param': 'Count of Participants', 'analyzed_list': {'analyzed': {'units': 'Participants', 'scope': 'Measure', 'count_list': {'count': {'@group_id': 'O1', '@value': '32'}}}}, 'class_list': {'class': {'category_list': {'category': {'measurement_list': {'measurement': {'@group_id': 'O1', '@value': '7'}}}}}}}}, {'type': 'Secondary', 'title': 'Number of Participants With Treatment-Emergent Adverse Events (Safety Profile)', 'description': 'The safety of the combination of enzalutamide with fulvestrant will be assessed according to CTCAE 4.03.', 'time_frame': '24 Weeks', 'population': 'all eligible patients', 'group_list': {'group': {'@group_id': 'O1', 'title': 'Fulvestrant With Enzalutamide', 'description': '500mg of Fulvestrant will be given IM on days 1, 15, 28, then every 4 weeks as per standard of care (SOC) and 160mg of Enzalutamide will be given, in conjunction with Fulvestrant, PO daily.\\r\\nFulvestrant with Enzalutamide: 500mg of Fulvestrant will be given IM on days 1, 15, 28, then every 4 weeks as per standard of care (SOC) and 160mg of Enzalutamide will be given PO daily. Patients will receive a tumor biopsy at the start of treatment and 4 weeks after the start of treatment, with an optional 3rd biopsy at the end treatment.'}}, 'measure': {'title': 'Number of Participants With Treatment-Emergent Adverse Events (Safety Profile)', 'description': 'The safety of the combination of enzalutamide with fulvestrant will be assessed according to CTCAE 4.03.', 'population': 'all eligible patients', 'units': 'participants', 'param': 'Number', 'analyzed_list': {'analyzed': {'units': 'Participants', 'scope': 'Measure', 'count_list': {'count': {'@group_id': 'O1', '@value': '32'}}}}, 'class_list': {'class': [{'title': 'fatigue', 'category_list': {'category': {'measurement_list': {'measurement': {'@group_id': 'O1', '@value': '17'}}}}}, {'title': 'nausea', 'category_list': {'category': {'measurement_list': {'measurement': {'@group_id': 'O1', '@value': '16'}}}}}, {'title': 'vomiting', 'category_list': {'category': {'measurement_list': {'measurement': {'@group_id': 'O1', '@value': '9'}}}}}, {'title': 'constipation', 'category_list': {'category': {'measurement_list': {'measurement': {'@group_id': 'O1', '@value': '10'}}}}}, {'title': 'headache', 'category_list': {'category': {'measurement_list': {'measurement': {'@group_id': 'O1', '@value': '11'}}}}}, {'title': 'diarrhea', 'category_list': {'category': {'measurement_list': {'measurement': {'@group_id': 'O1', '@value': '7'}}}}}, {'title': 'cognitive dysfunction', 'category_list': {'category': {'measurement_list': {'measurement': {'@group_id': 'O1', '@value': '5'}}}}}]}}}, {'type': 'Secondary', 'title': 'Percent Progression Free at 24 Weeks', 'description': 'PFS is defined as the time from the first day of enzalutamide treatment (Study Day 1) until documented disease progression or death on study, whichever occurs first. Percent (%) progression free at 24 weeks is the number of patients without disease progression after 24 weeks follow-up.', 'time_frame': 'Up to 24 Weeks', 'population': 'all eligible patients', 'group_list': {'group': {'@group_id': 'O1', 'title': 'Fulvestrant With Enzalutamide', 'description': '500mg of Fulvestrant will be given IM on days 1, 15, 28, then every 4 weeks as per standard of care (SOC) and 160mg of Enzalutamide will be given, in conjunction with Fulvestrant, PO daily.\\r\\nFulvestrant with Enzalutamide: 500mg of Fulvestrant will be given IM on days 1, 15, 28, then every 4 weeks as per standard of care (SOC) and 160mg of Enzalutamide will be given PO daily. Patients will receive a tumor biopsy at the start of treatment and 4 weeks after the start of treatment, with an optional 3rd biopsy at the end treatment.'}}, 'measure': {'title': 'Percent Progression Free at 24 Weeks', 'description': 'PFS is defined as the time from the first day of enzalutamide treatment (Study Day 1) until documented disease progression or death on study, whichever occurs first. Percent (%) progression free at 24 weeks is the number of patients without disease progression after 24 weeks follow-up.', 'population': 'all eligible patients', 'units': 'Participants', 'param': 'Count of Participants', 'analyzed_list': {'analyzed': {'units': 'Participants', 'scope': 'Measure', 'count_list': {'count': {'@group_id': 'O1', '@value': '32'}}}}, 'class_list': {'class': {'category_list': {'category': {'measurement_list': {'measurement': {'@group_id': 'O1', '@value': '7'}}}}}}}}]}, 'reported_events': {'time_frame': 'AEs collected during treatment (which lasted up to a year)', 'desc': 'CTCAE 4.0 Collected with each monthly visit, patients kept diary.', 'group_list': {'group': {'@group_id': 'E1', 'title': 'Fulvestrant With Enzalutamide', 'description': '500mg of Fulvestrant will be given IM on days 1, 15, 28, then every 4 weeks as per standard of care (SOC) and 160mg of Enzalutamide will be given, in conjunction with Fulvestrant, PO daily.\\r\\nFulvestrant with Enzalutamide: 500mg of Fulvestrant will be given IM on days 1, 15, 28, then every 4 weeks as per standard of care (SOC) and 160mg of Enzalutamide will be given PO daily. Patients will receive a tumor biopsy at the start of treatment and 4 weeks after the start of treatment, with an optional 3rd biopsy at the end treatment.'}}, 'serious_events': {'default_vocab': 'MedDRA (10.0)', 'default_assessment': 'Systematic Assessment', 'category_list': {'category': [{'title': 'Total', 'event_list': {'event': [{'sub_title': 'Total, all-cause mortality', 'counts': {'@group_id': 'E1', '@subjects_affected': '0', '@subjects_at_risk': '32'}}, {'sub_title': 'Total, serious adverse events', 'counts': {'@group_id': 'E1', '@subjects_affected': '2', '@subjects_at_risk': '32'}}]}}, {'title': 'Cardiac disorders', 'event_list': {'event': {'sub_title': 'myocardial infarction', 'description': 'Felt not to be related to treatment. Unrelated to fulvestrant unlikely related to enzalutamide', 'counts': {'@group_id': 'E1', '@events': '1', '@subjects_affected': '1', '@subjects_at_risk': '32'}}}}, {'title': 'Hepatobiliary disorders', 'event_list': {'event': {'sub_title': 'cholecystitis', 'description': 'unrelated to fulvestrant and enzalutamide', 'counts': {'@group_id': 'E1', '@events': '1', '@subjects_affected': '1', '@subjects_at_risk': '32'}}}}]}}, 'other_events': {'frequency_threshold': '5', 'default_vocab': 'MedDRA (10.0)', 'default_assessment': 'Systematic Assessment', 'category_list': {'category': [{'title': 'Total', 'event_list': {'event': {'sub_title': 'Total, other adverse events', 'counts': {'@group_id': 'E1', '@subjects_affected': '17', '@subjects_at_risk': '32'}}}}, {'title': 'Endocrine disorders', 'event_list': {'event': {'sub_title': 'Hot Flashes', 'counts': {'@group_id': 'E1', '@events': '6', '@subjects_affected': '6', '@subjects_at_risk': '32'}}}}, {'title': 'Gastrointestinal disorders', 'event_list': {'event': [{'sub_title': 'nausea', 'counts': {'@group_id': 'E1', '@events': '16', '@subjects_affected': '16', '@subjects_at_risk': '32'}}, {'sub_title': 'vomiting', 'counts': {'@group_id': 'E1', '@events': '9', '@subjects_affected': '9', '@subjects_at_risk': '32'}}, {'sub_title': 'constipation', 'counts': {'@group_id': 'E1', '@events': '10', '@subjects_affected': '10', '@subjects_at_risk': '32'}}, {'sub_title': 'anorexia', 'counts': {'@group_id': 'E1', '@events': '9', '@subjects_affected': '9', '@subjects_at_risk': '32'}}]}}, {'title': 'General disorders', 'event_list': {'event': {'sub_title': 'Fatigue', 'counts': {'@group_id': 'E1', '@events': '17', '@subjects_affected': '17', '@subjects_at_risk': '32'}}}}, {'title': 'Musculoskeletal and connective tissue disorders', 'event_list': {'event': {'sub_title': 'achiness', 'counts': {'@group_id': 'E1', '@events': '14', '@subjects_affected': '14', '@subjects_at_risk': '32'}}}}, {'title': 'Nervous system disorders', 'event_list': {'event': [{'sub_title': 'insomnia', 'counts': {'@group_id': 'E1', '@events': '6', '@subjects_affected': '6', '@subjects_at_risk': '32'}}, {'sub_title': 'headache', 'counts': {'@group_id': 'E1', '@events': '11', '@subjects_affected': '11', '@subjects_at_risk': '32'}}, {'sub_title': 'cognitive dysfunction', 'counts': {'@group_id': 'E1', '@events': '5', '@subjects_affected': '5', '@subjects_at_risk': '32'}}]}}]}}}, 'certain_agreements': {'pi_employee': 'Principal Investigators are NOT employed by the organization sponsoring the study.', 'restrictive_agreement': \"There is NOT an agreement between Principal Investigators and the Sponsor (or its agents) that restricts the PI's rights to discuss or publish trial results after the trial is completed.\"}, 'limitations_and_caveats': 'limited size of trial not randomized heavily pretreated somewhat heterogeneous population', 'point_of_contact': {'name_or_title': 'Professor Anthony Elias', 'organization': 'University of Colorado', 'phone': '720-848-0347', 'email': 'anthony.elias@cuanschutz.edu'}}}}\n"
     ]
    }
   ],
   "source": [
    "with open('NCT02953860.xml', 'r') as f:\n",
    "    xmlDict_full = xmltodict.parse(f.read())\n",
    "    \n",
    "pp = pprint.PrettyPrinter(indent=4)\n",
    "#pp.pprint(xmlDict_full)\n",
    "print(xmlDict_full)"
   ]
  },
  {
   "cell_type": "markdown",
   "id": "882bbbf9",
   "metadata": {},
   "source": [
    "#### XML -> JSON -> Pandas DataFrame"
   ]
  },
  {
   "cell_type": "code",
   "execution_count": 4,
   "id": "64fe0d24",
   "metadata": {},
   "outputs": [
    {
     "data": {
      "text/html": [
       "<div>\n",
       "<style scoped>\n",
       "    .dataframe tbody tr th:only-of-type {\n",
       "        vertical-align: middle;\n",
       "    }\n",
       "\n",
       "    .dataframe tbody tr th {\n",
       "        vertical-align: top;\n",
       "    }\n",
       "\n",
       "    .dataframe thead th {\n",
       "        text-align: right;\n",
       "    }\n",
       "</style>\n",
       "<table border=\"1\" class=\"dataframe\">\n",
       "  <thead>\n",
       "    <tr style=\"text-align: right;\">\n",
       "      <th></th>\n",
       "      <th>@rank</th>\n",
       "      <th>required_header</th>\n",
       "      <th>id_info</th>\n",
       "      <th>brief_title</th>\n",
       "      <th>official_title</th>\n",
       "      <th>sponsors</th>\n",
       "      <th>source</th>\n",
       "      <th>oversight_info</th>\n",
       "      <th>brief_summary</th>\n",
       "      <th>detailed_description</th>\n",
       "      <th>...</th>\n",
       "      <th>last_update_submitted</th>\n",
       "      <th>last_update_submitted_qc</th>\n",
       "      <th>last_update_posted</th>\n",
       "      <th>responsible_party</th>\n",
       "      <th>keyword</th>\n",
       "      <th>condition_browse</th>\n",
       "      <th>intervention_browse</th>\n",
       "      <th>patient_data</th>\n",
       "      <th>provided_document_section</th>\n",
       "      <th>clinical_results</th>\n",
       "    </tr>\n",
       "  </thead>\n",
       "  <tbody>\n",
       "    <tr>\n",
       "      <th>0</th>\n",
       "      <td>1</td>\n",
       "      <td>{'download_date': 'ClinicalTrials.gov processe...</td>\n",
       "      <td>{'org_study_id': '16-1001.cc', 'nct_id': 'NCT0...</td>\n",
       "      <td>Fulvestrant Plus Enzalutamide in ER+/Her2- Adv...</td>\n",
       "      <td>Phase II Trial of Fulvestrant Plus Enzalutamid...</td>\n",
       "      <td>{'lead_sponsor': {'agency': 'University of Col...</td>\n",
       "      <td>University of Colorado, Denver</td>\n",
       "      <td>{'has_dmc': 'Yes', 'is_fda_regulated_drug': 'Y...</td>\n",
       "      <td>{'textblock': 'A phase 2 study to evaluate the...</td>\n",
       "      <td>{'textblock': 'This is a single arm, non-rando...</td>\n",
       "      <td>...</td>\n",
       "      <td>April 23, 2021</td>\n",
       "      <td>April 23, 2021</td>\n",
       "      <td>{'@type': 'Actual', '#text': 'May 14, 2021'}</td>\n",
       "      <td>{'responsible_party_type': 'Sponsor'}</td>\n",
       "      <td>[Advanced Breast Cancer, ER+/Her2 Advanced Bre...</td>\n",
       "      <td>{'mesh_term': 'Breast Neoplasms'}</td>\n",
       "      <td>{'mesh_term': 'Fulvestrant'}</td>\n",
       "      <td>{'sharing_ipd': 'No'}</td>\n",
       "      <td>{'provided_document': [{'document_type': 'Stud...</td>\n",
       "      <td>{'participant_flow': {'group_list': {'group': ...</td>\n",
       "    </tr>\n",
       "  </tbody>\n",
       "</table>\n",
       "<p>1 rows × 46 columns</p>\n",
       "</div>"
      ],
      "text/plain": [
       "   @rank                                    required_header  \\\n",
       "0      1  {'download_date': 'ClinicalTrials.gov processe...   \n",
       "\n",
       "                                             id_info  \\\n",
       "0  {'org_study_id': '16-1001.cc', 'nct_id': 'NCT0...   \n",
       "\n",
       "                                         brief_title  \\\n",
       "0  Fulvestrant Plus Enzalutamide in ER+/Her2- Adv...   \n",
       "\n",
       "                                      official_title  \\\n",
       "0  Phase II Trial of Fulvestrant Plus Enzalutamid...   \n",
       "\n",
       "                                            sponsors  \\\n",
       "0  {'lead_sponsor': {'agency': 'University of Col...   \n",
       "\n",
       "                           source  \\\n",
       "0  University of Colorado, Denver   \n",
       "\n",
       "                                      oversight_info  \\\n",
       "0  {'has_dmc': 'Yes', 'is_fda_regulated_drug': 'Y...   \n",
       "\n",
       "                                       brief_summary  \\\n",
       "0  {'textblock': 'A phase 2 study to evaluate the...   \n",
       "\n",
       "                                detailed_description  ...  \\\n",
       "0  {'textblock': 'This is a single arm, non-rando...  ...   \n",
       "\n",
       "  last_update_submitted last_update_submitted_qc  \\\n",
       "0        April 23, 2021           April 23, 2021   \n",
       "\n",
       "                             last_update_posted  \\\n",
       "0  {'@type': 'Actual', '#text': 'May 14, 2021'}   \n",
       "\n",
       "                       responsible_party  \\\n",
       "0  {'responsible_party_type': 'Sponsor'}   \n",
       "\n",
       "                                             keyword  \\\n",
       "0  [Advanced Breast Cancer, ER+/Her2 Advanced Bre...   \n",
       "\n",
       "                    condition_browse           intervention_browse  \\\n",
       "0  {'mesh_term': 'Breast Neoplasms'}  {'mesh_term': 'Fulvestrant'}   \n",
       "\n",
       "            patient_data                          provided_document_section  \\\n",
       "0  {'sharing_ipd': 'No'}  {'provided_document': [{'document_type': 'Stud...   \n",
       "\n",
       "                                    clinical_results  \n",
       "0  {'participant_flow': {'group_list': {'group': ...  \n",
       "\n",
       "[1 rows x 46 columns]"
      ]
     },
     "execution_count": 4,
     "metadata": {},
     "output_type": "execute_result"
    }
   ],
   "source": [
    "df1 = pd.read_json(json.dumps(xmlDict_full['clinical_study']), lines=True)\n",
    "df1 "
   ]
  },
  {
   "cell_type": "code",
   "execution_count": 5,
   "id": "9f7757a1",
   "metadata": {},
   "outputs": [
    {
     "data": {
      "text/plain": [
       "Index(['@rank', 'required_header', 'id_info', 'brief_title', 'official_title',\n",
       "       'sponsors', 'source', 'oversight_info', 'brief_summary',\n",
       "       'detailed_description', 'overall_status', 'start_date',\n",
       "       'completion_date', 'primary_completion_date', 'phase', 'study_type',\n",
       "       'has_expanded_access', 'study_design_info', 'primary_outcome',\n",
       "       'secondary_outcome', 'number_of_arms', 'enrollment', 'condition',\n",
       "       'arm_group', 'intervention', 'eligibility', 'overall_official',\n",
       "       'location', 'location_countries', 'verification_date',\n",
       "       'study_first_submitted', 'study_first_submitted_qc',\n",
       "       'study_first_posted', 'results_first_submitted',\n",
       "       'results_first_submitted_qc', 'results_first_posted',\n",
       "       'last_update_submitted', 'last_update_submitted_qc',\n",
       "       'last_update_posted', 'responsible_party', 'keyword',\n",
       "       'condition_browse', 'intervention_browse', 'patient_data',\n",
       "       'provided_document_section', 'clinical_results'],\n",
       "      dtype='object')"
      ]
     },
     "execution_count": 5,
     "metadata": {},
     "output_type": "execute_result"
    }
   ],
   "source": [
    "df1.columns"
   ]
  },
  {
   "cell_type": "code",
   "execution_count": 6,
   "id": "20b77362",
   "metadata": {},
   "outputs": [
    {
     "data": {
      "text/html": [
       "<div>\n",
       "<style scoped>\n",
       "    .dataframe tbody tr th:only-of-type {\n",
       "        vertical-align: middle;\n",
       "    }\n",
       "\n",
       "    .dataframe tbody tr th {\n",
       "        vertical-align: top;\n",
       "    }\n",
       "\n",
       "    .dataframe thead th {\n",
       "        text-align: right;\n",
       "    }\n",
       "</style>\n",
       "<table border=\"1\" class=\"dataframe\">\n",
       "  <thead>\n",
       "    <tr style=\"text-align: right;\">\n",
       "      <th></th>\n",
       "      <th>participant_flow</th>\n",
       "      <th>baseline</th>\n",
       "      <th>outcome_list</th>\n",
       "      <th>reported_events</th>\n",
       "      <th>certain_agreements</th>\n",
       "      <th>limitations_and_caveats</th>\n",
       "      <th>point_of_contact</th>\n",
       "    </tr>\n",
       "  </thead>\n",
       "  <tbody>\n",
       "    <tr>\n",
       "      <th>0</th>\n",
       "      <td>{'group_list': {'group': {'@group_id': 'P1', '...</td>\n",
       "      <td>{'population': 'age 18 and up', 'group_list': ...</td>\n",
       "      <td>{'outcome': [{'type': 'Primary', 'title': 'Cli...</td>\n",
       "      <td>{'time_frame': 'AEs collected during treatment...</td>\n",
       "      <td>{'pi_employee': 'Principal Investigators are N...</td>\n",
       "      <td>limited size of trial not randomized heavily p...</td>\n",
       "      <td>{'name_or_title': 'Professor Anthony Elias', '...</td>\n",
       "    </tr>\n",
       "  </tbody>\n",
       "</table>\n",
       "</div>"
      ],
      "text/plain": [
       "                                    participant_flow  \\\n",
       "0  {'group_list': {'group': {'@group_id': 'P1', '...   \n",
       "\n",
       "                                            baseline  \\\n",
       "0  {'population': 'age 18 and up', 'group_list': ...   \n",
       "\n",
       "                                        outcome_list  \\\n",
       "0  {'outcome': [{'type': 'Primary', 'title': 'Cli...   \n",
       "\n",
       "                                     reported_events  \\\n",
       "0  {'time_frame': 'AEs collected during treatment...   \n",
       "\n",
       "                                  certain_agreements  \\\n",
       "0  {'pi_employee': 'Principal Investigators are N...   \n",
       "\n",
       "                             limitations_and_caveats  \\\n",
       "0  limited size of trial not randomized heavily p...   \n",
       "\n",
       "                                    point_of_contact  \n",
       "0  {'name_or_title': 'Professor Anthony Elias', '...  "
      ]
     },
     "execution_count": 6,
     "metadata": {},
     "output_type": "execute_result"
    }
   ],
   "source": [
    "df2 = pd.read_json(json.dumps(xmlDict_full['clinical_study']['clinical_results']), lines=True)\n",
    "df2"
   ]
  },
  {
   "cell_type": "code",
   "execution_count": 7,
   "id": "3d2affb3",
   "metadata": {},
   "outputs": [
    {
     "data": {
      "text/plain": [
       "Index(['participant_flow', 'baseline', 'outcome_list', 'reported_events',\n",
       "       'certain_agreements', 'limitations_and_caveats', 'point_of_contact'],\n",
       "      dtype='object')"
      ]
     },
     "execution_count": 7,
     "metadata": {},
     "output_type": "execute_result"
    }
   ],
   "source": [
    "df2.columns"
   ]
  },
  {
   "cell_type": "code",
   "execution_count": 8,
   "id": "f2a7be49",
   "metadata": {},
   "outputs": [
    {
     "name": "stdout",
     "output_type": "stream",
     "text": [
      "0    {'population': 'age 18 and up', 'group_list': ...\n",
      "Name: baseline, dtype: object\n",
      "{'population': 'age 18 and up', 'group_list': {'group': {'@group_id': 'B1', 'title': 'Fulvestrant With Enzalutamide', 'description': '500mg of Fulvestrant will be given IM on days 1, 15, 28, then every 4 weeks as per standard of care (SOC) and 160mg of Enzalutamide will be given, in conjunction with Fulvestrant, PO daily.\\r\\nFulvestrant with Enzalutamide: 500mg of Fulvestrant will be given IM on days 1, 15, 28, then every 4 weeks as per standard of care (SOC) and 160mg of Enzalutamide will be given PO daily. Patients will receive a tumor biopsy at the start of treatment and 4 weeks after the start of treatment, with an optional 3rd biopsy at the end treatment.'}}, 'analyzed_list': {'analyzed': {'units': 'Participants', 'scope': 'Overall', 'count_list': {'count': {'@group_id': 'B1', '@value': '32'}}}}, 'measure_list': {'measure': [{'title': 'Age', 'units': 'years', 'param': 'Median', 'dispersion': 'Full Range', 'class_list': {'class': {'category_list': {'category': {'measurement_list': {'measurement': {'@group_id': 'B1', '@value': '61', '@lower_limit': '46', '@upper_limit': '87'}}}}}}}, {'title': 'Sex: Female, Male', 'units': 'Participants', 'param': 'Count of Participants', 'class_list': {'class': {'category_list': {'category': [{'title': 'Female', 'measurement_list': {'measurement': {'@group_id': 'B1', '@value': '32'}}}, {'title': 'Male', 'measurement_list': {'measurement': {'@group_id': 'B1', '@value': '0'}}}]}}}}, {'title': 'Race (NIH/OMB)', 'units': 'Participants', 'param': 'Count of Participants', 'class_list': {'class': {'category_list': {'category': [{'title': 'American Indian or Alaska Native', 'measurement_list': {'measurement': {'@group_id': 'B1', '@value': '0'}}}, {'title': 'Asian', 'measurement_list': {'measurement': {'@group_id': 'B1', '@value': '1'}}}, {'title': 'Native Hawaiian or Other Pacific Islander', 'measurement_list': {'measurement': {'@group_id': 'B1', '@value': '0'}}}, {'title': 'Black or African American', 'measurement_list': {'measurement': {'@group_id': 'B1', '@value': '3'}}}, {'title': 'White', 'measurement_list': {'measurement': {'@group_id': 'B1', '@value': '27'}}}, {'title': 'More than one race', 'measurement_list': {'measurement': {'@group_id': 'B1', '@value': '1'}}}, {'title': 'Unknown or Not Reported', 'measurement_list': {'measurement': {'@group_id': 'B1', '@value': '0'}}}]}}}}, {'title': 'Region of Enrollment', 'units': 'Participants', 'param': 'Count of Participants', 'class_list': {'class': {'title': 'United States', 'category_list': {'category': {'measurement_list': {'measurement': {'@group_id': 'B1', '@value': '32'}}}}}}}]}}\n"
     ]
    }
   ],
   "source": [
    "print(df2['baseline'])\n",
    "print(df2['baseline'][0])"
   ]
  },
  {
   "cell_type": "markdown",
   "id": "336152d6",
   "metadata": {},
   "source": [
    "#### MySQL data definition and manipulation functions"
   ]
  },
  {
   "cell_type": "code",
   "execution_count": 9,
   "id": "3aac131a",
   "metadata": {},
   "outputs": [],
   "source": [
    "def create_server_connection(host_args):\n",
    "    connection = None\n",
    "    try:\n",
    "        connection = mysql.connector.connect(**host_args)\n",
    "        print(\"MySQL Database connection successful\")\n",
    "    except Error as err:\n",
    "        print(f\"Error: '{err}'\")\n",
    "    return connection\n",
    "\n",
    "\n",
    "def is_connected(connection):\n",
    "    return connection.is_connected()\n",
    "\n",
    "\n",
    "def close(connection):\n",
    "    connection.close()\n",
    "    print(\"Connection closed\")\n",
    "    \n",
    "\n",
    "def commit(connection):\n",
    "    connection.commit()\n",
    "    print(\"Transaction committed\")\n",
    "    \n",
    "    \n",
    "def rollback(connection):\n",
    "    connection.rollback()\n",
    "    print(\"Transaction rolledback\")\n",
    "    \n",
    "    \n",
    "def create_database_from_sql_file(connection, sql_file):\n",
    "    cursor = connection.cursor(dictionary=True)\n",
    "    try:\n",
    "        with open(sql_file, 'r') as sql_file:\n",
    "            result_iterator = cursor.execute(sql_file.read(), multi=True)\n",
    "            for result in result_iterator:\n",
    "                print(\"Running query: \", result)\n",
    "                print(f\"Affected {result.rowcount} rows\")\n",
    "            print(\"Database created successfully\")\n",
    "    except Error as err:\n",
    "        print(f\"Error: '{err}'\")\n",
    "        \n",
    "        \n",
    "def insert_from_sql_file(connection, sql_file, params):\n",
    "    cursor = connection.cursor(dictionary=True)\n",
    "    try:\n",
    "        with open(sql_file, 'r') as sql_file:\n",
    "            result_iterator = cursor.execute(sql_file.read(), params, multi=True)\n",
    "            for result in result_iterator:\n",
    "                print(\"Running query: \", result)\n",
    "                if result.with_rows:\n",
    "                    fetch_result = result.fetchall()\n",
    "                    pp.pprint(json.dumps(fetch_result))\n",
    "                elif result.rowcount > 0:\n",
    "                    print(f\"Affected {result.rowcount} rows\")\n",
    "            connection.commit()\n",
    "            print(\"Transaction succeeded\")\n",
    "    except Error as err:\n",
    "        print(f\"Error: '{err}'\")\n",
    "        \n",
    "        \n",
    "def select_from_sql_file(connection, sql_file, params):\n",
    "    cursor = connection.cursor(dictionary=True, buffered=True)\n",
    "    try:\n",
    "        with open(sql_file, 'r') as sql_file:\n",
    "            result_iterator = cursor.execute(sql_file.read(), params, multi=True)\n",
    "            for result in result_iterator:\n",
    "                print(\"Running query: \", result)\n",
    "                if result.with_rows:\n",
    "                    fetch_result = result.fetchall()\n",
    "                    pp.pprint(json.dumps(fetch_result))\n",
    "                elif result.rowcount > 0:\n",
    "                    print(f\"Affected {result.rowcount} rows\")\n",
    "            return fetch_result\n",
    "    except Error as err:\n",
    "        print(f\"Error: '{err}'\")\n",
    "        \n",
    "def read(connection, query):\n",
    "    cursor = connection.cursor(buffered=True)\n",
    "    result = None\n",
    "    try:\n",
    "        cursor.execute(query)\n",
    "        result = cursor.fetchall()\n",
    "        return result\n",
    "    except Error as err:\n",
    "        print(f\"Error: '{err}'\")\n",
    "        \n",
    "def insert_update_delete(connection, query):\n",
    "    cursor = connection.cursor()\n",
    "    try:\n",
    "        cursor.execute(query)\n",
    "        connection.commit() \n",
    "        print(\"Transaction succeeded\")\n",
    "    except Error as err:\n",
    "        print(f\"Error: '{err}'\")        "
   ]
  },
  {
   "cell_type": "markdown",
   "id": "69b2f2ef",
   "metadata": {},
   "source": [
    "#### Parameters definitions"
   ]
  },
  {
   "cell_type": "code",
   "execution_count": 10,
   "id": "2f0feb9a",
   "metadata": {},
   "outputs": [],
   "source": [
    "# database connection parameters\n",
    "host_args = {\n",
    "    'host': \"localhost\",\n",
    "    'user': \"lac\",\n",
    "    'passwd': \"**********\"\n",
    "}"
   ]
  },
  {
   "cell_type": "markdown",
   "id": "b0a6a142",
   "metadata": {},
   "source": [
    "#### Create database connection"
   ]
  },
  {
   "cell_type": "code",
   "execution_count": 11,
   "id": "fcb46f7e",
   "metadata": {},
   "outputs": [
    {
     "name": "stdout",
     "output_type": "stream",
     "text": [
      "MySQL Database connection successful\n"
     ]
    }
   ],
   "source": [
    "connection = create_server_connection(host_args)"
   ]
  },
  {
   "cell_type": "markdown",
   "id": "4fdae097",
   "metadata": {},
   "source": [
    "#### Create database "
   ]
  },
  {
   "cell_type": "code",
   "execution_count": 12,
   "id": "9fa0c994",
   "metadata": {},
   "outputs": [
    {
     "name": "stdout",
     "output_type": "stream",
     "text": [
      "Running query:  CMySQLCursorDict: DROP DATABASE IF EXISTS CLINICAL_TRIALS\n",
      "Affected 4 rows\n",
      "Running query:  CMySQLCursorDict: CREATE DATABASE CLINICAL_TRIALS\n",
      "Affected 1 rows\n",
      "Running query:  CMySQLCursorDict: USE CLINICAL_TRIALS\n",
      "Affected 0 rows\n",
      "Running query:  CMySQLCursorDict: CREATE TABLE clinical_trial (\n",
      "\tclinical_..\n",
      "Affected 0 rows\n",
      "Running query:  CMySQLCursorDict: CREATE TABLE baseline (\n",
      "\tbaseline_id INT..\n",
      "Affected 0 rows\n",
      "Running query:  CMySQLCursorDict: CREATE TABLE measure (\n",
      "\tmeasure_id INT P..\n",
      "Affected 0 rows\n",
      "Running query:  CMySQLCursorDict: CREATE TABLE category (\n",
      "\tcategory_id INT..\n",
      "Affected 0 rows\n",
      "Running query:  CMySQLCursorDict: ALTER TABLE baseline\n",
      "ADD FOREIGN KEY(cli..\n",
      "Affected 0 rows\n",
      "Running query:  CMySQLCursorDict: ALTER TABLE measure\n",
      "ADD FOREIGN KEY(base..\n",
      "Affected 0 rows\n",
      "Running query:  CMySQLCursorDict: ALTER TABLE category\n",
      "ADD FOREIGN KEY(mea..\n",
      "Affected 0 rows\n",
      "Database created successfully\n"
     ]
    }
   ],
   "source": [
    "create_database_from_sql_file(connection, 'create_db.sql')"
   ]
  },
  {
   "cell_type": "markdown",
   "id": "09e08faf",
   "metadata": {},
   "source": [
    "#### Data extraction and loading into the database"
   ]
  },
  {
   "cell_type": "code",
   "execution_count": 13,
   "id": "eed6726d",
   "metadata": {},
   "outputs": [
    {
     "name": "stdout",
     "output_type": "stream",
     "text": [
      "Running query:  CMySQLCursorDict: USE CLINICAL_TRIALS\n",
      "Running query:  CMySQLCursorDict: INSERT INTO clinical_trial(clinical_tria..\n",
      "Affected 1 rows\n",
      "Running query:  CMySQLCursorDict: SELECT * FROM clinical_trial\n",
      "('[{\"clinical_trial_id\": \"NCT02953860\", \"title\": \"Phase II Trial of '\n",
      " 'Fulvestrant Plus Enzalutamide in ER+/Her2- Advanced Breast Cancer\", '\n",
      " '\"description\": \"This is a single arm, non-randomized, open-label phase 2 '\n",
      " 'study designed to evaluate the\\\\r\\\\n      tolerability and clinical activity '\n",
      " 'of adding enzalutamide to fulvestrant treatment in women\\\\r\\\\n      with '\n",
      " 'advanced breast cancer that are ER and/or PR-positive and Her2 normal. In '\n",
      " 'this study 500\\\\r\\\\n      mg of Fulvestrant will be given IM on days 1, 15, '\n",
      " '28, then every 4 weeks as per standard of\\\\r\\\\n      care (SOC) and 160mg of '\n",
      " 'Enzalutamide will be, in conjunction with Fulvestrant, PO daily.\", \"status\": '\n",
      " '\"Completed\", \"start_date\": \"July 6, 2017\", \"completion_date\": \"April 10, '\n",
      " '2020\", \"study_type\": \"Interventional\", \"study_design_info\": \"None (Open '\n",
      " 'Label)-Treatment-Single Group Assignment\"}]')\n",
      "Transaction succeeded\n"
     ]
    }
   ],
   "source": [
    "clinical_trial_params = {\n",
    "    'clinical_trial_id': df1['id_info'][0]['nct_id'], \n",
    "    'title': df1['official_title'][0], \n",
    "    'description': df1['detailed_description'][0]['textblock'],\n",
    "    'status': df1['overall_status'][0], \n",
    "    'start_date': df1['start_date'][0][\"#text\"], \n",
    "    'completion_date': df1['completion_date'][0][\"#text\"], \n",
    "    'study_type': df1['study_type'][0], \n",
    "    'study_design_info': '-'.join([df1['study_design_info'][0]['masking'], df1['study_design_info'][0]['primary_purpose'],  \n",
    "         df1['study_design_info'][0]['intervention_model']])\n",
    "}\n",
    "\n",
    "insert_from_sql_file(connection, 'insert_clinical_trial.sql', clinical_trial_params)"
   ]
  },
  {
   "cell_type": "code",
   "execution_count": 14,
   "id": "7f04d2c6",
   "metadata": {},
   "outputs": [
    {
     "name": "stdout",
     "output_type": "stream",
     "text": [
      "Running query:  CMySQLCursorDict: USE CLINICAL_TRIALS\n",
      "Running query:  CMySQLCursorDict: INSERT INTO baseline(population, descrip..\n",
      "Affected 1 rows\n",
      "Running query:  CMySQLCursorDict: SELECT * FROM baseline\n",
      "('[{\"baseline_id\": 1, \"population\": \"age 18 and up\", \"description\": \"500mg of '\n",
      " 'Fulvestrant will be given IM on days 1, 15, 28, then every 4 weeks as per '\n",
      " 'standard of care (SOC) and 160mg of Enzalutamide will be given, in '\n",
      " 'conjunction with Fulvestrant, PO daily.\\\\r\\\\nFulvestrant with Enzalutamide: '\n",
      " '500mg of Fulvestrant will be given IM on days 1, 15, 28, then every 4 weeks '\n",
      " 'as per standard of care (SOC) and 160mg of Enzalutamide will be given PO '\n",
      " 'daily. Patients will receive a tumor biopsy at the start of treatment and 4 '\n",
      " 'weeks after the start of treatment, with an optional 3rd biopsy at the end '\n",
      " 'treatment.\", \"clinical_trial_id\": \"NCT02953860\"}]')\n",
      "Transaction succeeded\n"
     ]
    }
   ],
   "source": [
    "baseline_params = {\n",
    "    'population': df2['baseline'][0]['population'], \n",
    "    'description': df2['baseline'][0]['group_list']['group']['description'],\n",
    "    'clinical_trial_id': df1['id_info'][0]['nct_id']\n",
    "}\n",
    "\n",
    "insert_from_sql_file(connection, 'insert_baseline.sql', baseline_params)"
   ]
  },
  {
   "cell_type": "code",
   "execution_count": 15,
   "id": "11157ed8",
   "metadata": {},
   "outputs": [
    {
     "name": "stdout",
     "output_type": "stream",
     "text": [
      "Running query:  CMySQLCursorDict: USE CLINICAL_TRIALS\n",
      "Running query:  CMySQLCursorDict: SELECT MAX(baseline_id) INTO @baseline_i..\n",
      "Affected 1 rows\n",
      "Running query:  CMySQLCursorDict: INSERT INTO measure(title, units, param,..\n",
      "Affected 1 rows\n",
      "Running query:  CMySQLCursorDict: SELECT * FROM measure\n",
      "('[{\"measure_id\": 1, \"title\": \"Age\", \"units\": \"years\", \"param\": \"Median\", '\n",
      " '\"baseline_id\": 1}]')\n",
      "Transaction succeeded\n",
      "Running query:  CMySQLCursorDict: USE CLINICAL_TRIALS\n",
      "Running query:  CMySQLCursorDict: SELECT MAX(baseline_id) INTO @baseline_i..\n",
      "Affected 1 rows\n",
      "Running query:  CMySQLCursorDict: INSERT INTO measure(title, units, param,..\n",
      "Affected 1 rows\n",
      "Running query:  CMySQLCursorDict: SELECT * FROM measure\n",
      "('[{\"measure_id\": 1, \"title\": \"Age\", \"units\": \"years\", \"param\": \"Median\", '\n",
      " '\"baseline_id\": 1}, {\"measure_id\": 2, \"title\": \"Sex: Female, Male\", \"units\": '\n",
      " '\"Participants\", \"param\": \"Count of Participants\", \"baseline_id\": 1}]')\n",
      "Transaction succeeded\n",
      "Running query:  CMySQLCursorDict: USE CLINICAL_TRIALS\n",
      "Running query:  CMySQLCursorDict: SELECT MAX(baseline_id) INTO @baseline_i..\n",
      "Affected 1 rows\n",
      "Running query:  CMySQLCursorDict: INSERT INTO measure(title, units, param,..\n",
      "Affected 1 rows\n",
      "Running query:  CMySQLCursorDict: SELECT * FROM measure\n",
      "('[{\"measure_id\": 1, \"title\": \"Age\", \"units\": \"years\", \"param\": \"Median\", '\n",
      " '\"baseline_id\": 1}, {\"measure_id\": 2, \"title\": \"Sex: Female, Male\", \"units\": '\n",
      " '\"Participants\", \"param\": \"Count of Participants\", \"baseline_id\": 1}, '\n",
      " '{\"measure_id\": 3, \"title\": \"Race (NIH/OMB)\", \"units\": \"Participants\", '\n",
      " '\"param\": \"Count of Participants\", \"baseline_id\": 1}]')\n",
      "Transaction succeeded\n",
      "Running query:  CMySQLCursorDict: USE CLINICAL_TRIALS\n",
      "Running query:  CMySQLCursorDict: SELECT MAX(baseline_id) INTO @baseline_i..\n",
      "Affected 1 rows\n",
      "Running query:  CMySQLCursorDict: INSERT INTO measure(title, units, param,..\n",
      "Affected 1 rows\n",
      "Running query:  CMySQLCursorDict: SELECT * FROM measure\n",
      "('[{\"measure_id\": 1, \"title\": \"Age\", \"units\": \"years\", \"param\": \"Median\", '\n",
      " '\"baseline_id\": 1}, {\"measure_id\": 2, \"title\": \"Sex: Female, Male\", \"units\": '\n",
      " '\"Participants\", \"param\": \"Count of Participants\", \"baseline_id\": 1}, '\n",
      " '{\"measure_id\": 3, \"title\": \"Race (NIH/OMB)\", \"units\": \"Participants\", '\n",
      " '\"param\": \"Count of Participants\", \"baseline_id\": 1}, {\"measure_id\": 4, '\n",
      " '\"title\": \"Region of Enrollment\", \"units\": \"Participants\", \"param\": \"Count of '\n",
      " 'Participants\", \"baseline_id\": 1}]')\n",
      "Transaction succeeded\n"
     ]
    }
   ],
   "source": [
    "for _, x in enumerate(df2['baseline'][0]['measure_list']['measure']):\n",
    "    measure_params = {k:v for k,v in x.items() if k in ['title', 'units', 'param']}\n",
    "    insert_from_sql_file(connection, 'insert_measure.sql', measure_params)"
   ]
  },
  {
   "cell_type": "code",
   "execution_count": 16,
   "id": "84f46ec8",
   "metadata": {},
   "outputs": [
    {
     "name": "stdout",
     "output_type": "stream",
     "text": [
      "Running query:  CMySQLCursorDict: USE CLINICAL_TRIALS\n",
      "Running query:  CMySQLCursorDict: SELECT measure_id INTO @measure_id FROM ..\n",
      "Affected 1 rows\n",
      "Running query:  CMySQLCursorDict: INSERT INTO category(title, grp, val, me..\n",
      "Affected 1 rows\n",
      "Running query:  CMySQLCursorDict: SELECT * FROM category\n",
      "'[{\"category_id\": 1, \"title\": \"\", \"grp\": \"B1\", \"val\": \"61\", \"measure_id\": 1}]'\n",
      "Transaction succeeded\n",
      "Running query:  CMySQLCursorDict: USE CLINICAL_TRIALS\n",
      "Running query:  CMySQLCursorDict: SELECT measure_id INTO @measure_id FROM ..\n",
      "Affected 1 rows\n",
      "Running query:  CMySQLCursorDict: INSERT INTO category(title, grp, val, me..\n",
      "Affected 1 rows\n",
      "Running query:  CMySQLCursorDict: SELECT * FROM category\n",
      "('[{\"category_id\": 1, \"title\": \"\", \"grp\": \"B1\", \"val\": \"61\", \"measure_id\": 1}, '\n",
      " '{\"category_id\": 2, \"title\": \"Female\", \"grp\": \"B1\", \"val\": \"32\", '\n",
      " '\"measure_id\": 2}]')\n",
      "Transaction succeeded\n",
      "Running query:  CMySQLCursorDict: USE CLINICAL_TRIALS\n",
      "Running query:  CMySQLCursorDict: SELECT measure_id INTO @measure_id FROM ..\n",
      "Affected 1 rows\n",
      "Running query:  CMySQLCursorDict: INSERT INTO category(title, grp, val, me..\n",
      "Affected 1 rows\n",
      "Running query:  CMySQLCursorDict: SELECT * FROM category\n",
      "('[{\"category_id\": 1, \"title\": \"\", \"grp\": \"B1\", \"val\": \"61\", \"measure_id\": 1}, '\n",
      " '{\"category_id\": 2, \"title\": \"Female\", \"grp\": \"B1\", \"val\": \"32\", '\n",
      " '\"measure_id\": 2}, {\"category_id\": 3, \"title\": \"Male\", \"grp\": \"B1\", \"val\": '\n",
      " '\"0\", \"measure_id\": 2}]')\n",
      "Transaction succeeded\n",
      "Running query:  CMySQLCursorDict: USE CLINICAL_TRIALS\n",
      "Running query:  CMySQLCursorDict: SELECT measure_id INTO @measure_id FROM ..\n",
      "Affected 1 rows\n",
      "Running query:  CMySQLCursorDict: INSERT INTO category(title, grp, val, me..\n",
      "Affected 1 rows\n",
      "Running query:  CMySQLCursorDict: SELECT * FROM category\n",
      "('[{\"category_id\": 1, \"title\": \"\", \"grp\": \"B1\", \"val\": \"61\", \"measure_id\": 1}, '\n",
      " '{\"category_id\": 2, \"title\": \"Female\", \"grp\": \"B1\", \"val\": \"32\", '\n",
      " '\"measure_id\": 2}, {\"category_id\": 3, \"title\": \"Male\", \"grp\": \"B1\", \"val\": '\n",
      " '\"0\", \"measure_id\": 2}, {\"category_id\": 4, \"title\": \"American Indian or '\n",
      " 'Alaska Native\", \"grp\": \"B1\", \"val\": \"0\", \"measure_id\": 3}]')\n",
      "Transaction succeeded\n",
      "Running query:  CMySQLCursorDict: USE CLINICAL_TRIALS\n",
      "Running query:  CMySQLCursorDict: SELECT measure_id INTO @measure_id FROM ..\n",
      "Affected 1 rows\n",
      "Running query:  CMySQLCursorDict: INSERT INTO category(title, grp, val, me..\n",
      "Affected 1 rows\n",
      "Running query:  CMySQLCursorDict: SELECT * FROM category\n",
      "('[{\"category_id\": 1, \"title\": \"\", \"grp\": \"B1\", \"val\": \"61\", \"measure_id\": 1}, '\n",
      " '{\"category_id\": 2, \"title\": \"Female\", \"grp\": \"B1\", \"val\": \"32\", '\n",
      " '\"measure_id\": 2}, {\"category_id\": 3, \"title\": \"Male\", \"grp\": \"B1\", \"val\": '\n",
      " '\"0\", \"measure_id\": 2}, {\"category_id\": 4, \"title\": \"American Indian or '\n",
      " 'Alaska Native\", \"grp\": \"B1\", \"val\": \"0\", \"measure_id\": 3}, {\"category_id\": '\n",
      " '5, \"title\": \"Asian\", \"grp\": \"B1\", \"val\": \"1\", \"measure_id\": 3}]')\n",
      "Transaction succeeded\n",
      "Running query:  CMySQLCursorDict: USE CLINICAL_TRIALS\n",
      "Running query:  CMySQLCursorDict: SELECT measure_id INTO @measure_id FROM ..\n",
      "Affected 1 rows\n",
      "Running query:  CMySQLCursorDict: INSERT INTO category(title, grp, val, me..\n",
      "Affected 1 rows\n",
      "Running query:  CMySQLCursorDict: SELECT * FROM category\n",
      "('[{\"category_id\": 1, \"title\": \"\", \"grp\": \"B1\", \"val\": \"61\", \"measure_id\": 1}, '\n",
      " '{\"category_id\": 2, \"title\": \"Female\", \"grp\": \"B1\", \"val\": \"32\", '\n",
      " '\"measure_id\": 2}, {\"category_id\": 3, \"title\": \"Male\", \"grp\": \"B1\", \"val\": '\n",
      " '\"0\", \"measure_id\": 2}, {\"category_id\": 4, \"title\": \"American Indian or '\n",
      " 'Alaska Native\", \"grp\": \"B1\", \"val\": \"0\", \"measure_id\": 3}, {\"category_id\": '\n",
      " '5, \"title\": \"Asian\", \"grp\": \"B1\", \"val\": \"1\", \"measure_id\": 3}, '\n",
      " '{\"category_id\": 6, \"title\": \"Native Hawaiian or Other Pacific Islander\", '\n",
      " '\"grp\": \"B1\", \"val\": \"0\", \"measure_id\": 3}]')\n",
      "Transaction succeeded\n",
      "Running query:  CMySQLCursorDict: USE CLINICAL_TRIALS\n",
      "Running query:  CMySQLCursorDict: SELECT measure_id INTO @measure_id FROM ..\n",
      "Affected 1 rows\n",
      "Running query:  CMySQLCursorDict: INSERT INTO category(title, grp, val, me..\n",
      "Affected 1 rows\n",
      "Running query:  CMySQLCursorDict: SELECT * FROM category\n",
      "('[{\"category_id\": 1, \"title\": \"\", \"grp\": \"B1\", \"val\": \"61\", \"measure_id\": 1}, '\n",
      " '{\"category_id\": 2, \"title\": \"Female\", \"grp\": \"B1\", \"val\": \"32\", '\n",
      " '\"measure_id\": 2}, {\"category_id\": 3, \"title\": \"Male\", \"grp\": \"B1\", \"val\": '\n",
      " '\"0\", \"measure_id\": 2}, {\"category_id\": 4, \"title\": \"American Indian or '\n",
      " 'Alaska Native\", \"grp\": \"B1\", \"val\": \"0\", \"measure_id\": 3}, {\"category_id\": '\n",
      " '5, \"title\": \"Asian\", \"grp\": \"B1\", \"val\": \"1\", \"measure_id\": 3}, '\n",
      " '{\"category_id\": 6, \"title\": \"Native Hawaiian or Other Pacific Islander\", '\n",
      " '\"grp\": \"B1\", \"val\": \"0\", \"measure_id\": 3}, {\"category_id\": 7, \"title\": '\n",
      " '\"Black or African American\", \"grp\": \"B1\", \"val\": \"3\", \"measure_id\": 3}]')\n",
      "Transaction succeeded\n",
      "Running query:  CMySQLCursorDict: USE CLINICAL_TRIALS\n",
      "Running query:  CMySQLCursorDict: SELECT measure_id INTO @measure_id FROM ..\n",
      "Affected 1 rows\n",
      "Running query:  CMySQLCursorDict: INSERT INTO category(title, grp, val, me..\n",
      "Affected 1 rows\n",
      "Running query:  CMySQLCursorDict: SELECT * FROM category\n",
      "('[{\"category_id\": 1, \"title\": \"\", \"grp\": \"B1\", \"val\": \"61\", \"measure_id\": 1}, '\n",
      " '{\"category_id\": 2, \"title\": \"Female\", \"grp\": \"B1\", \"val\": \"32\", '\n",
      " '\"measure_id\": 2}, {\"category_id\": 3, \"title\": \"Male\", \"grp\": \"B1\", \"val\": '\n",
      " '\"0\", \"measure_id\": 2}, {\"category_id\": 4, \"title\": \"American Indian or '\n",
      " 'Alaska Native\", \"grp\": \"B1\", \"val\": \"0\", \"measure_id\": 3}, {\"category_id\": '\n",
      " '5, \"title\": \"Asian\", \"grp\": \"B1\", \"val\": \"1\", \"measure_id\": 3}, '\n",
      " '{\"category_id\": 6, \"title\": \"Native Hawaiian or Other Pacific Islander\", '\n",
      " '\"grp\": \"B1\", \"val\": \"0\", \"measure_id\": 3}, {\"category_id\": 7, \"title\": '\n",
      " '\"Black or African American\", \"grp\": \"B1\", \"val\": \"3\", \"measure_id\": 3}, '\n",
      " '{\"category_id\": 8, \"title\": \"White\", \"grp\": \"B1\", \"val\": \"27\", \"measure_id\": '\n",
      " '3}]')\n",
      "Transaction succeeded\n",
      "Running query:  CMySQLCursorDict: USE CLINICAL_TRIALS\n",
      "Running query:  CMySQLCursorDict: SELECT measure_id INTO @measure_id FROM ..\n",
      "Affected 1 rows\n",
      "Running query:  CMySQLCursorDict: INSERT INTO category(title, grp, val, me..\n",
      "Affected 1 rows\n",
      "Running query:  CMySQLCursorDict: SELECT * FROM category\n",
      "('[{\"category_id\": 1, \"title\": \"\", \"grp\": \"B1\", \"val\": \"61\", \"measure_id\": 1}, '\n",
      " '{\"category_id\": 2, \"title\": \"Female\", \"grp\": \"B1\", \"val\": \"32\", '\n",
      " '\"measure_id\": 2}, {\"category_id\": 3, \"title\": \"Male\", \"grp\": \"B1\", \"val\": '\n",
      " '\"0\", \"measure_id\": 2}, {\"category_id\": 4, \"title\": \"American Indian or '\n",
      " 'Alaska Native\", \"grp\": \"B1\", \"val\": \"0\", \"measure_id\": 3}, {\"category_id\": '\n",
      " '5, \"title\": \"Asian\", \"grp\": \"B1\", \"val\": \"1\", \"measure_id\": 3}, '\n",
      " '{\"category_id\": 6, \"title\": \"Native Hawaiian or Other Pacific Islander\", '\n",
      " '\"grp\": \"B1\", \"val\": \"0\", \"measure_id\": 3}, {\"category_id\": 7, \"title\": '\n",
      " '\"Black or African American\", \"grp\": \"B1\", \"val\": \"3\", \"measure_id\": 3}, '\n",
      " '{\"category_id\": 8, \"title\": \"White\", \"grp\": \"B1\", \"val\": \"27\", \"measure_id\": '\n",
      " '3}, {\"category_id\": 9, \"title\": \"More than one race\", \"grp\": \"B1\", \"val\": '\n",
      " '\"1\", \"measure_id\": 3}]')\n",
      "Transaction succeeded\n",
      "Running query:  CMySQLCursorDict: USE CLINICAL_TRIALS\n",
      "Running query:  CMySQLCursorDict: SELECT measure_id INTO @measure_id FROM ..\n",
      "Affected 1 rows\n",
      "Running query:  CMySQLCursorDict: INSERT INTO category(title, grp, val, me..\n",
      "Affected 1 rows\n",
      "Running query:  CMySQLCursorDict: SELECT * FROM category\n",
      "('[{\"category_id\": 1, \"title\": \"\", \"grp\": \"B1\", \"val\": \"61\", \"measure_id\": 1}, '\n",
      " '{\"category_id\": 2, \"title\": \"Female\", \"grp\": \"B1\", \"val\": \"32\", '\n",
      " '\"measure_id\": 2}, {\"category_id\": 3, \"title\": \"Male\", \"grp\": \"B1\", \"val\": '\n",
      " '\"0\", \"measure_id\": 2}, {\"category_id\": 4, \"title\": \"American Indian or '\n",
      " 'Alaska Native\", \"grp\": \"B1\", \"val\": \"0\", \"measure_id\": 3}, {\"category_id\": '\n",
      " '5, \"title\": \"Asian\", \"grp\": \"B1\", \"val\": \"1\", \"measure_id\": 3}, '\n",
      " '{\"category_id\": 6, \"title\": \"Native Hawaiian or Other Pacific Islander\", '\n",
      " '\"grp\": \"B1\", \"val\": \"0\", \"measure_id\": 3}, {\"category_id\": 7, \"title\": '\n",
      " '\"Black or African American\", \"grp\": \"B1\", \"val\": \"3\", \"measure_id\": 3}, '\n",
      " '{\"category_id\": 8, \"title\": \"White\", \"grp\": \"B1\", \"val\": \"27\", \"measure_id\": '\n",
      " '3}, {\"category_id\": 9, \"title\": \"More than one race\", \"grp\": \"B1\", \"val\": '\n",
      " '\"1\", \"measure_id\": 3}, {\"category_id\": 10, \"title\": \"Unknown or Not '\n",
      " 'Reported\", \"grp\": \"B1\", \"val\": \"0\", \"measure_id\": 3}]')\n",
      "Transaction succeeded\n",
      "Running query:  CMySQLCursorDict: USE CLINICAL_TRIALS\n",
      "Running query:  CMySQLCursorDict: SELECT measure_id INTO @measure_id FROM ..\n",
      "Affected 1 rows\n",
      "Running query:  CMySQLCursorDict: INSERT INTO category(title, grp, val, me..\n",
      "Affected 1 rows\n",
      "Running query:  CMySQLCursorDict: SELECT * FROM category\n",
      "('[{\"category_id\": 1, \"title\": \"\", \"grp\": \"B1\", \"val\": \"61\", \"measure_id\": 1}, '\n",
      " '{\"category_id\": 2, \"title\": \"Female\", \"grp\": \"B1\", \"val\": \"32\", '\n",
      " '\"measure_id\": 2}, {\"category_id\": 3, \"title\": \"Male\", \"grp\": \"B1\", \"val\": '\n",
      " '\"0\", \"measure_id\": 2}, {\"category_id\": 4, \"title\": \"American Indian or '\n",
      " 'Alaska Native\", \"grp\": \"B1\", \"val\": \"0\", \"measure_id\": 3}, {\"category_id\": '\n",
      " '5, \"title\": \"Asian\", \"grp\": \"B1\", \"val\": \"1\", \"measure_id\": 3}, '\n",
      " '{\"category_id\": 6, \"title\": \"Native Hawaiian or Other Pacific Islander\", '\n",
      " '\"grp\": \"B1\", \"val\": \"0\", \"measure_id\": 3}, {\"category_id\": 7, \"title\": '\n",
      " '\"Black or African American\", \"grp\": \"B1\", \"val\": \"3\", \"measure_id\": 3}, '\n",
      " '{\"category_id\": 8, \"title\": \"White\", \"grp\": \"B1\", \"val\": \"27\", \"measure_id\": '\n",
      " '3}, {\"category_id\": 9, \"title\": \"More than one race\", \"grp\": \"B1\", \"val\": '\n",
      " '\"1\", \"measure_id\": 3}, {\"category_id\": 10, \"title\": \"Unknown or Not '\n",
      " 'Reported\", \"grp\": \"B1\", \"val\": \"0\", \"measure_id\": 3}, {\"category_id\": 11, '\n",
      " '\"title\": \"\", \"grp\": \"B1\", \"val\": \"32\", \"measure_id\": 4}]')\n",
      "Transaction succeeded\n"
     ]
    }
   ],
   "source": [
    "category_params = []\n",
    "for idx, x in enumerate(df2['baseline'][0]['measure_list']['measure']):\n",
    "    cat = [x['class_list']['class']['category_list']['category']]\n",
    "   \n",
    "    for y in cat:\n",
    "        if isinstance(y, dict):\n",
    "            params={'title':'', \n",
    "                       'grp':y['measurement_list']['measurement']['@group_id'],\n",
    "                       'val':y['measurement_list']['measurement']['@value'],\n",
    "                       'measure_id':idx + 1\n",
    "                      }\n",
    "            category_params.append(params)\n",
    "        elif isinstance(y, list):\n",
    "            for _, el in enumerate(y):\n",
    "                params ={'title':el['title'], \n",
    "                        'grp':el['measurement_list']['measurement']['@group_id'],\n",
    "                           'val':el['measurement_list']['measurement']['@value'],\n",
    "                            'measure_id':idx + 1\n",
    "                          }\n",
    "                category_params.append(params)\n",
    "\n",
    "for params in category_params:\n",
    "    insert_from_sql_file(connection, 'insert_category.sql', params) "
   ]
  },
  {
   "cell_type": "markdown",
   "id": "e2b6e0f6",
   "metadata": {},
   "source": [
    "#### Test data loading"
   ]
  },
  {
   "cell_type": "code",
   "execution_count": 17,
   "id": "4c81b28f",
   "metadata": {},
   "outputs": [
    {
     "name": "stdout",
     "output_type": "stream",
     "text": [
      "('NCT02953860', 'Phase II Trial of Fulvestrant Plus Enzalutamide in ER+/Her2- Advanced Breast Cancer', 'This is a single arm, non-randomized, open-label phase 2 study designed to evaluate the\\r\\n      tolerability and clinical activity of adding enzalutamide to fulvestrant treatment in women\\r\\n      with advanced breast cancer that are ER and/or PR-positive and Her2 normal. In this study 500\\r\\n      mg of Fulvestrant will be given IM on days 1, 15, 28, then every 4 weeks as per standard of\\r\\n      care (SOC) and 160mg of Enzalutamide will be, in conjunction with Fulvestrant, PO daily.', 'Completed', 'July 6, 2017', 'April 10, 2020', 'Interventional', 'None (Open Label)-Treatment-Single Group Assignment')\n"
     ]
    }
   ],
   "source": [
    "select_clinical_trial = \"\"\"\n",
    "SELECT * FROM CLINICAL_TRIALS.clinical_trial;\n",
    "\"\"\"\n",
    "\n",
    "if not is_connected(connection):\n",
    "    connection = create_server_connection(host_args)\n",
    "\n",
    "results = read(connection, select_clinical_trial) \n",
    "\n",
    "for result in results:\n",
    "  print(result)"
   ]
  },
  {
   "cell_type": "code",
   "execution_count": 18,
   "id": "6ea34599",
   "metadata": {},
   "outputs": [
    {
     "name": "stdout",
     "output_type": "stream",
     "text": [
      "(1, 'age 18 and up', '500mg of Fulvestrant will be given IM on days 1, 15, 28, then every 4 weeks as per standard of care (SOC) and 160mg of Enzalutamide will be given, in conjunction with Fulvestrant, PO daily.\\r\\nFulvestrant with Enzalutamide: 500mg of Fulvestrant will be given IM on days 1, 15, 28, then every 4 weeks as per standard of care (SOC) and 160mg of Enzalutamide will be given PO daily. Patients will receive a tumor biopsy at the start of treatment and 4 weeks after the start of treatment, with an optional 3rd biopsy at the end treatment.', 'NCT02953860')\n"
     ]
    }
   ],
   "source": [
    "select_baseline = \"\"\"\n",
    "SELECT * FROM CLINICAL_TRIALS.baseline;\n",
    "\"\"\"\n",
    "\n",
    "if not is_connected(connection):\n",
    "    connection = create_server_connection(host_args)\n",
    "\n",
    "results = read(connection, select_baseline) \n",
    "\n",
    "for result in results:\n",
    "  print(result)"
   ]
  },
  {
   "cell_type": "code",
   "execution_count": 19,
   "id": "4d7f9476",
   "metadata": {},
   "outputs": [
    {
     "name": "stdout",
     "output_type": "stream",
     "text": [
      "(1, 'Age', 'years', 'Median', 1)\n",
      "(2, 'Sex: Female, Male', 'Participants', 'Count of Participants', 1)\n",
      "(3, 'Race (NIH/OMB)', 'Participants', 'Count of Participants', 1)\n",
      "(4, 'Region of Enrollment', 'Participants', 'Count of Participants', 1)\n"
     ]
    }
   ],
   "source": [
    "select_measure = \"\"\"\n",
    "SELECT * FROM CLINICAL_TRIALS.measure;\n",
    "\"\"\"\n",
    "\n",
    "if not is_connected(connection):\n",
    "    connection = create_server_connection(host_args)\n",
    "\n",
    "results = read(connection, select_measure) \n",
    "\n",
    "for result in results:\n",
    "  print(result)"
   ]
  },
  {
   "cell_type": "code",
   "execution_count": 20,
   "id": "18e291af",
   "metadata": {},
   "outputs": [
    {
     "name": "stdout",
     "output_type": "stream",
     "text": [
      "(1, '', 'B1', '61', 1)\n",
      "(2, 'Female', 'B1', '32', 2)\n",
      "(3, 'Male', 'B1', '0', 2)\n",
      "(4, 'American Indian or Alaska Native', 'B1', '0', 3)\n",
      "(5, 'Asian', 'B1', '1', 3)\n",
      "(6, 'Native Hawaiian or Other Pacific Islander', 'B1', '0', 3)\n",
      "(7, 'Black or African American', 'B1', '3', 3)\n",
      "(8, 'White', 'B1', '27', 3)\n",
      "(9, 'More than one race', 'B1', '1', 3)\n",
      "(10, 'Unknown or Not Reported', 'B1', '0', 3)\n",
      "(11, '', 'B1', '32', 4)\n"
     ]
    }
   ],
   "source": [
    "select_category = \"\"\"\n",
    "SELECT * FROM CLINICAL_TRIALS.category;\n",
    "\"\"\"\n",
    "\n",
    "if not is_connected(connection):\n",
    "    connection = create_server_connection(host_args)\n",
    "\n",
    "results = read(connection, select_category) \n",
    "\n",
    "for result in results:\n",
    "  print(result)"
   ]
  },
  {
   "cell_type": "code",
   "execution_count": 21,
   "id": "c75ddc58",
   "metadata": {},
   "outputs": [
    {
     "name": "stdout",
     "output_type": "stream",
     "text": [
      "(3, 'Race (NIH/OMB)', 'Participants', 'Count of Participants', 'American Indian or Alaska Native', 'B1', '0')\n",
      "(3, 'Race (NIH/OMB)', 'Participants', 'Count of Participants', 'Asian', 'B1', '1')\n",
      "(3, 'Race (NIH/OMB)', 'Participants', 'Count of Participants', 'Native Hawaiian or Other Pacific Islander', 'B1', '0')\n",
      "(3, 'Race (NIH/OMB)', 'Participants', 'Count of Participants', 'Black or African American', 'B1', '3')\n",
      "(3, 'Race (NIH/OMB)', 'Participants', 'Count of Participants', 'White', 'B1', '27')\n",
      "(3, 'Race (NIH/OMB)', 'Participants', 'Count of Participants', 'More than one race', 'B1', '1')\n",
      "(3, 'Race (NIH/OMB)', 'Participants', 'Count of Participants', 'Unknown or Not Reported', 'B1', '0')\n"
     ]
    }
   ],
   "source": [
    "select_category_measure_race = \"\"\"\n",
    "SELECT m.measure_id, m.title, m.units, m.param, c.title, c.grp, c.val \n",
    "FROM CLINICAL_TRIALS.category as c \n",
    "INNER JOIN CLINICAL_TRIALS.measure as m \n",
    "ON c.measure_id = m.measure_id\n",
    "WHERE m.title LIKE '%Race%';\n",
    "\"\"\"\n",
    "\n",
    "if not is_connected(connection):\n",
    "    connection = create_server_connection(host_args)\n",
    "\n",
    "results = read(connection, select_category_measure_race) \n",
    "\n",
    "for result in results:\n",
    "  print(result)"
   ]
  },
  {
   "cell_type": "code",
   "execution_count": 22,
   "id": "a4cdb17d",
   "metadata": {},
   "outputs": [
    {
     "name": "stdout",
     "output_type": "stream",
     "text": [
      "(1, 'Age', 'years', 'Median', '', 'B1', '61')\n"
     ]
    }
   ],
   "source": [
    "select_category_measure_age = \"\"\"\n",
    "SELECT m.measure_id, m.title, m.units, m.param, c.title, c.grp, c.val \n",
    "FROM CLINICAL_TRIALS.category as c \n",
    "INNER JOIN CLINICAL_TRIALS.measure as m \n",
    "ON c.measure_id = m.measure_id\n",
    "WHERE m.title LIKE '%Age%';\n",
    "\"\"\"\n",
    "\n",
    "if not is_connected(connection):\n",
    "    connection = create_server_connection(host_args)\n",
    "\n",
    "results = read(connection, select_category_measure_age) \n",
    "\n",
    "for result in results:\n",
    "  print(result)"
   ]
  },
  {
   "cell_type": "code",
   "execution_count": 23,
   "id": "40cd72f9",
   "metadata": {},
   "outputs": [
    {
     "name": "stdout",
     "output_type": "stream",
     "text": [
      "(4, 'Region of Enrollment', 'Participants', 'Count of Participants', '', 'B1', '32')\n"
     ]
    }
   ],
   "source": [
    "select_category_measure_region_of_enrollment = \"\"\"\n",
    "SELECT m.measure_id, m.title, m.units, m.param, c.title, c.grp, c.val \n",
    "FROM CLINICAL_TRIALS.category as c \n",
    "INNER JOIN CLINICAL_TRIALS.measure as m \n",
    "ON c.measure_id = m.measure_id\n",
    "WHERE m.title LIKE '%Region%';\n",
    "\"\"\"\n",
    "\n",
    "if not is_connected(connection):\n",
    "    connection = create_server_connection(host_args)\n",
    "\n",
    "results = read(connection, select_category_measure_region_of_enrollment) \n",
    "\n",
    "for result in results:\n",
    "  print(result)"
   ]
  },
  {
   "cell_type": "markdown",
   "id": "a3c38ffa",
   "metadata": {},
   "source": [
    "#### Correct data"
   ]
  },
  {
   "cell_type": "code",
   "execution_count": 24,
   "id": "93b6b9d5",
   "metadata": {},
   "outputs": [
    {
     "name": "stdout",
     "output_type": "stream",
     "text": [
      "Transaction succeeded\n"
     ]
    }
   ],
   "source": [
    "update_category_title_age = \"\"\"\n",
    "UPDATE CLINICAL_TRIALS.category \n",
    "SET title='Age'\n",
    "WHERE measure_id = 1;\n",
    "\"\"\"\n",
    "\n",
    "insert_update_delete(connection, update_category_title_age) "
   ]
  },
  {
   "cell_type": "code",
   "execution_count": 25,
   "id": "433a7858",
   "metadata": {
    "scrolled": true
   },
   "outputs": [
    {
     "name": "stdout",
     "output_type": "stream",
     "text": [
      "Transaction succeeded\n"
     ]
    }
   ],
   "source": [
    "update_category_title_region_of_enrollment = \"\"\"\n",
    "UPDATE CLINICAL_TRIALS.category \n",
    "SET title='Region of Enrollment'\n",
    "WHERE measure_id = 4;\n",
    "\"\"\"\n",
    "\n",
    "insert_update_delete(connection, update_category_title_region_of_enrollment) "
   ]
  },
  {
   "cell_type": "code",
   "execution_count": 26,
   "id": "15194432",
   "metadata": {},
   "outputs": [
    {
     "name": "stdout",
     "output_type": "stream",
     "text": [
      "(1, 'Age', 'B1', '61', 1)\n",
      "(2, 'Female', 'B1', '32', 2)\n",
      "(3, 'Male', 'B1', '0', 2)\n",
      "(4, 'American Indian or Alaska Native', 'B1', '0', 3)\n",
      "(5, 'Asian', 'B1', '1', 3)\n",
      "(6, 'Native Hawaiian or Other Pacific Islander', 'B1', '0', 3)\n",
      "(7, 'Black or African American', 'B1', '3', 3)\n",
      "(8, 'White', 'B1', '27', 3)\n",
      "(9, 'More than one race', 'B1', '1', 3)\n",
      "(10, 'Unknown or Not Reported', 'B1', '0', 3)\n",
      "(11, 'Region of Enrollment', 'B1', '32', 4)\n"
     ]
    }
   ],
   "source": [
    "select_category = \"\"\"\n",
    "SELECT * FROM CLINICAL_TRIALS.category;\n",
    "\"\"\"\n",
    "\n",
    "if not is_connected(connection):\n",
    "    connection = create_server_connection(host_args)\n",
    "\n",
    "results = read(connection, select_category) \n",
    "\n",
    "for result in results:\n",
    "  print(result)"
   ]
  },
  {
   "cell_type": "code",
   "execution_count": 27,
   "id": "c6315d06",
   "metadata": {},
   "outputs": [
    {
     "data": {
      "text/plain": [
       "'\\ndelete_category = \"\"\"\\nDELETE FROM CLINICAL_TRIALS.category;\\n\"\"\"\\n\\ninsert_update_delete(connection, delete_category) \\n'"
      ]
     },
     "execution_count": 27,
     "metadata": {},
     "output_type": "execute_result"
    }
   ],
   "source": [
    "'''\n",
    "delete_category = \"\"\"\n",
    "DELETE FROM CLINICAL_TRIALS.category;\n",
    "\"\"\"\n",
    "\n",
    "insert_update_delete(connection, delete_category) \n",
    "'''"
   ]
  },
  {
   "cell_type": "markdown",
   "id": "8d4c5083",
   "metadata": {},
   "source": [
    "#### Backup database to file"
   ]
  },
  {
   "cell_type": "code",
   "execution_count": 28,
   "id": "74b76807",
   "metadata": {},
   "outputs": [
    {
     "name": "stdout",
     "output_type": "stream",
     "text": [
      "mysqldump: [Warning] Using a password on the command line interface can be insecure.\r\n"
     ]
    }
   ],
   "source": [
    "! mysqldump CLINICAL_TRIALS --host='localhost' --user='lac' --password=\"**********\" > clinical_trials_dump.sql"
   ]
  }
 ],
 "metadata": {
  "kernelspec": {
   "display_name": "Python 3 (ipykernel)",
   "language": "python",
   "name": "python3"
  },
  "language_info": {
   "codemirror_mode": {
    "name": "ipython",
    "version": 3
   },
   "file_extension": ".py",
   "mimetype": "text/x-python",
   "name": "python",
   "nbconvert_exporter": "python",
   "pygments_lexer": "ipython3",
   "version": "3.9.12"
  }
 },
 "nbformat": 4,
 "nbformat_minor": 5
}
